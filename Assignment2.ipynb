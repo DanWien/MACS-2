{
  "nbformat": 4,
  "nbformat_minor": 0,
  "metadata": {
    "kernelspec": {
      "display_name": "Python 3",
      "language": "python",
      "name": "python3"
    },
    "language_info": {
      "codemirror_mode": {
        "name": "ipython",
        "version": 3
      },
      "file_extension": ".py",
      "mimetype": "text/x-python",
      "name": "python",
      "nbconvert_exporter": "python",
      "pygments_lexer": "ipython3",
      "version": "3.8.3"
    },
    "colab": {
      "name": "Copy of Copy of hw2.ipynb",
      "provenance": [],
      "collapsed_sections": []
    }
  },
  "cells": [
    {
      "cell_type": "markdown",
      "metadata": {
        "id": "-Ddvr3pHG4yc"
      },
      "source": [
        "# Assignment 2: Applications of modular arithmetics"
      ]
    },
    {
      "cell_type": "markdown",
      "metadata": {
        "id": "bkP87FaMG4yd"
      },
      "source": [
        "## Question 1: Cryptography\n",
        "\n",
        "In this question you will implement two simple cryptographic algorithms - Caesar's and Vigenère ciphers.\n",
        "\n",
        "1. Implement Caesar's cipher: https://en.wikipedia.org/wiki/Caesar_cipher, both the encoder and the decoder. Your encoder should use a right shift of 11. Your implementation should deal with both uppercase and lowercase characters. For example - `A` should be encoded as `L`, and `a` should be encoded as `l`. Non-alphabetic characters should stay as they are.\n",
        "2. Demonstrate the cipher by encoding and then decoding the [Zen of Python](#scrollTo=c7HI28zkPqXb&line=1&uniqifier=1) using Caesar cipher:\n",
        "  * Encode the Zen of Python and print the result.\n",
        "  * Decode the result of encoding and print the decoded string.\n",
        "  * Compare the original and recovered texts - they should be the same.\n",
        "3. For what _n_, where _n_ is the shift size, both the encoder and the decoder would output the same resulting string for every given input string? In other words, find an _n_ such that for each _x_ we would get: (_x_ + _n_) mod 26 = (_x_ - _n_) mod 26.\n",
        "4. Implement the Vigenère cipher: https://en.wikipedia.org/wiki/Vigenère_cipher, both the encoder and the decoder. Use the keyword `XYZZY`. As before, your implementation should preserve capitalization and keep non-alphabetic characters as they are. For example - the string `Hey, you!` should be encoded using the pairs `(H, X), (e, y), (y, z), (y, z), (o, y), (u, x)`, resulting with the cipher `Ecx, xmr!`.\n",
        "5. Demonstrate the Vigenère cipher by encoding and then decoding the Zen of Python, as before."
      ]
    },
    {
      "cell_type": "code",
      "source": [
        "import this  # This line actually prints out the Zen of Python. Curious? See: https://github.com/python/cpython/blob/main/Lib/this.py\n",
        "\n",
        "# For convenience, use the following constant.\n",
        "ZEN = '''The Zen of Python, by Tim Peters\n",
        "\n",
        "Beautiful is better than ugly.\n",
        "Explicit is better than implicit.\n",
        "Simple is better than complex.\n",
        "Complex is better than complicated.\n",
        "Flat is better than nested.\n",
        "Sparse is better than dense.\n",
        "Readability counts.\n",
        "Special cases aren't special enough to break the rules.\n",
        "Although practicality beats purity.\n",
        "Errors should never pass silently.\n",
        "Unless explicitly silenced.\n",
        "In the face of ambiguity, refuse the temptation to guess.\n",
        "There should be one-- and preferably only one --obvious way to do it.\n",
        "Although that way may not be obvious at first unless you're Dutch.\n",
        "Now is better than never.\n",
        "Although never is often better than *right* now.\n",
        "If the implementation is hard to explain, it's a bad idea.\n",
        "If the implementation is easy to explain, it may be a good idea.\n",
        "Namespaces are one honking great idea -- let's do more of those!\n",
        "'''"
      ],
      "metadata": {
        "id": "c7HI28zkPqXb",
        "colab": {
          "base_uri": "https://localhost:8080/"
        },
        "outputId": "31f5cd8e-c9aa-4131-8f1c-b0c3d51a4ca0"
      },
      "execution_count": 1,
      "outputs": [
        {
          "output_type": "stream",
          "name": "stdout",
          "text": [
            "The Zen of Python, by Tim Peters\n",
            "\n",
            "Beautiful is better than ugly.\n",
            "Explicit is better than implicit.\n",
            "Simple is better than complex.\n",
            "Complex is better than complicated.\n",
            "Flat is better than nested.\n",
            "Sparse is better than dense.\n",
            "Readability counts.\n",
            "Special cases aren't special enough to break the rules.\n",
            "Although practicality beats purity.\n",
            "Errors should never pass silently.\n",
            "Unless explicitly silenced.\n",
            "In the face of ambiguity, refuse the temptation to guess.\n",
            "There should be one-- and preferably only one --obvious way to do it.\n",
            "Although that way may not be obvious at first unless you're Dutch.\n",
            "Now is better than never.\n",
            "Although never is often better than *right* now.\n",
            "If the implementation is hard to explain, it's a bad idea.\n",
            "If the implementation is easy to explain, it may be a good idea.\n",
            "Namespaces are one honking great idea -- let's do more of those!\n"
          ]
        }
      ]
    },
    {
      "cell_type": "code",
      "metadata": {
        "id": "Yd2ECbt3G4yd"
      },
      "source": [
        "def encode(code):\n",
        "    output = \"\"\n",
        "    # traverse text\n",
        "    for i in range(len(code)):\n",
        "        char = code[i]\n",
        "        # Encrypt uppercase characters\n",
        "        if (char.isupper()):\n",
        "            output += chr((ord(char) + 11-65) % 26 + 65)\n",
        "        # Encrypt lowercase characters\n",
        "        elif(char.islower()):\n",
        "          output += chr((ord(char) + 11 - 97) % 26 + 97)\n",
        "        else:\n",
        "            output += char\n",
        "    return output\n",
        "\n",
        "def decode(code):\n",
        "    output = \"\"\n",
        "    # traverse text\n",
        "    for i in range(len(code)):\n",
        "        char = code[i]\n",
        "        # Encrypt uppercase characters\n",
        "        if (char.isupper()):\n",
        "            output += chr((ord(char) + 15-65) % 26 + 65)\n",
        "        # Encrypt lowercase characters\n",
        "        elif(char.islower()):\n",
        "          output += chr((ord(char) + 15 - 97) % 26 + 97)\n",
        "        else:\n",
        "            output += char\n",
        "    return output\n",
        "\n",
        "\n"
      ],
      "execution_count": 2,
      "outputs": []
    },
    {
      "cell_type": "code",
      "source": [
        "encoded = encode(ZEN)\n",
        "print (\"encoded: \" + encoded)\n",
        "print (\"decoded: \" + decode(encoded))"
      ],
      "metadata": {
        "id": "HS01pNyxD_1I",
        "colab": {
          "base_uri": "https://localhost:8080/"
        },
        "outputId": "79cf0112-7cd2-406b-a9d6-30bee34fcf7c"
      },
      "execution_count": 3,
      "outputs": [
        {
          "output_type": "stream",
          "name": "stdout",
          "text": [
            "encoded: Esp Kpy zq Ajeszy, mj Etx Apepcd\n",
            "\n",
            "Mplfetqfw td mpeepc esly frwj.\n",
            "Piawtnte td mpeepc esly txawtnte.\n",
            "Dtxawp td mpeepc esly nzxawpi.\n",
            "Nzxawpi td mpeepc esly nzxawtnlepo.\n",
            "Qwle td mpeepc esly ypdepo.\n",
            "Dalcdp td mpeepc esly opydp.\n",
            "Cplolmtwtej nzfyed.\n",
            "Dapntlw nldpd lcpy'e dapntlw pyzfrs ez mcplv esp cfwpd.\n",
            "Lweszfrs aclnetnlwtej mpled afctej.\n",
            "Pcczcd dszfwo ypgpc aldd dtwpyewj.\n",
            "Fywpdd piawtntewj dtwpynpo.\n",
            "Ty esp qlnp zq lxmtrftej, cpqfdp esp epxaeletzy ez rfpdd.\n",
            "Espcp dszfwo mp zyp-- lyo acpqpclmwj zywj zyp --zmgtzfd hlj ez oz te.\n",
            "Lweszfrs esle hlj xlj yze mp zmgtzfd le qtcde fywpdd jzf'cp Ofens.\n",
            "Yzh td mpeepc esly ypgpc.\n",
            "Lweszfrs ypgpc td zqepy mpeepc esly *ctrse* yzh.\n",
            "Tq esp txawpxpyeletzy td slco ez piawlty, te'd l mlo topl.\n",
            "Tq esp txawpxpyeletzy td pldj ez piawlty, te xlj mp l rzzo topl.\n",
            "Ylxpdalnpd lcp zyp szyvtyr rcple topl -- wpe'd oz xzcp zq eszdp!\n",
            "\n",
            "decoded: The Zen of Python, by Tim Peters\n",
            "\n",
            "Beautiful is better than ugly.\n",
            "Explicit is better than implicit.\n",
            "Simple is better than complex.\n",
            "Complex is better than complicated.\n",
            "Flat is better than nested.\n",
            "Sparse is better than dense.\n",
            "Readability counts.\n",
            "Special cases aren't special enough to break the rules.\n",
            "Although practicality beats purity.\n",
            "Errors should never pass silently.\n",
            "Unless explicitly silenced.\n",
            "In the face of ambiguity, refuse the temptation to guess.\n",
            "There should be one-- and preferably only one --obvious way to do it.\n",
            "Although that way may not be obvious at first unless you're Dutch.\n",
            "Now is better than never.\n",
            "Although never is often better than *right* now.\n",
            "If the implementation is hard to explain, it's a bad idea.\n",
            "If the implementation is easy to explain, it may be a good idea.\n",
            "Namespaces are one honking great idea -- let's do more of those!\n",
            "\n"
          ]
        }
      ]
    },
    {
      "cell_type": "code",
      "source": [
        "letter_encode = 'E'\n",
        "letter_decode = 'E'\n",
        "equal = False\n",
        "i=0\n",
        "while(not equal):\n",
        "  i+=1\n",
        "  equal = (chr((ord(letter_encode) + i - 97) % 26 + 97)) == (chr((ord(letter_encode) + (26-i) - 97) % 26 + 97))\n",
        "print(i)"
      ],
      "metadata": {
        "id": "Rq8K7PVxEAWw",
        "colab": {
          "base_uri": "https://localhost:8080/"
        },
        "outputId": "5fc695a3-007d-481b-b5f9-6f52fd858b9e"
      },
      "execution_count": 4,
      "outputs": [
        {
          "output_type": "stream",
          "name": "stdout",
          "text": [
            "13\n"
          ]
        }
      ]
    },
    {
      "cell_type": "code",
      "source": [
        "def vig_encode(code):\n",
        "  key = \"XYZZY\"\n",
        "  output = \"\"\n",
        "  key_index = 0;\n",
        "  for i in range(len(code)):\n",
        "    char = code[i];\n",
        "    if(char.isupper()):\n",
        "      output += chr((ord(char) + ord(key[key_index % 5]) + 13 - 65) % 26 + 65)\n",
        "      key_index = key_index + 1\n",
        "    elif(char.islower()):   \n",
        "      output += chr((ord(char) + ord(key[key_index % 5]) + 13 - 97) % 26 + 97)\n",
        "      key_index = key_index + 1\n",
        "    else:\n",
        "      output += char\n",
        "  return output\n",
        "\n",
        "def vig_decode(code):\n",
        "  key = \"XYZZY\"\n",
        "  output = \"\"\n",
        "  key_index = 0;\n",
        "  for i in range(len(code)):\n",
        "    char = code[i];\n",
        "    if(char.isupper()):\n",
        "      output += chr((ord(char) - ord(key[key_index % 5]) + 13 - 65) % 26 + 65)\n",
        "      key_index = key_index + 1\n",
        "    elif(char.islower()):   \n",
        "      output += chr((ord(char) - ord(key[key_index % 5]) + 13 - 97) % 26 + 97)\n",
        "      key_index = key_index + 1\n",
        "    else:\n",
        "      output += char\n",
        "  return output"
      ],
      "metadata": {
        "id": "r3LynAYlEArC"
      },
      "execution_count": 8,
      "outputs": []
    },
    {
      "cell_type": "code",
      "source": [
        "encoded = vig_encode(ZEN)\n",
        "print(\"encoded: \" + encoded) \n",
        "print(\"decoded: \" + vig_decode(encoded)) "
      ],
      "metadata": {
        "id": "xEsyt7IqEA62",
        "colab": {
          "base_uri": "https://localhost:8080/"
        },
        "outputId": "13b15179-c419-4c83-fe87-ffbf63b3faaa"
      },
      "execution_count": 9,
      "outputs": [
        {
          "output_type": "stream",
          "name": "stdout",
          "text": [
            "encoded: Qfd Yck me Owqfnm, zv Rhl Nbrdqq\n",
            "\n",
            "Ycztrfdtk gp zdsrbp sgyk sfkw.\n",
            "Bvokgzgs hq ycssco rgzl fkokgzgs.\n",
            "Rgjnkd gp zdsrbp sgyk anlnicw.\n",
            "Bmjnkdv fq adrqcq sfxl bnkmjhbyqcc.\n",
            "Ejxr hr zbrsdp qfzm lbqsdb.\n",
            "Pnzqqb gr acqrdq reym cckqd.\n",
            "Qcxbzagigsx alsmsq.\n",
            "Pndbgxj bzqbq zqck'r roczgzk ckmtff qm aqcxi sgc oskdq.\n",
            "Xjsgmreg opxashaxjhsw yczsq msqhrv.\n",
            "Cqqmoq rgmrjc mcscq oypq rhjblskw.\n",
            "Rlkdqp cwojfahsjv qhkckadc.\n",
            "Gk rgd dxad nd xkahergsx, pbdtrc qfd scjnszrfmm sm dsdrq.\n",
            "Qfdqc pfntja zd nlb-- ymc nocedpxzkx mkjx nlb --mauglsr vyv rn cm fr.\n",
            "Zkremtff qfzs uxw lzw kms ac lzuhmrq zs dfprs skjdrq vmt'qc Assbf.\n",
            "Kmv hq ycssco rgzl kcudp.\n",
            "Xjsgmreg mcscq hq ldsdl ycssco rgzl *ogfgr* kmv.\n",
            "Hd qfd hkmjdlckrzsgll hr fxpc sm bvokyfl, hs'q x zzc gacz.\n",
            "Hd qfd hkmjdlckrzsgll hr cxqx sm bvokyfl, hs kxw ad y dmnc gacz.\n",
            "Myjcroyzcr zpb mmd flljhld eqdyq gcdy -- ics'r bl knqc ld sgmpc!\n",
            "\n",
            "decoded: The Zen of Python, by Tim Peters\n",
            "\n",
            "Beautiful is better than ugly.\n",
            "Explicit is better than implicit.\n",
            "Simple is better than complex.\n",
            "Complex is better than complicated.\n",
            "Flat is better than nested.\n",
            "Sparse is better than dense.\n",
            "Readability counts.\n",
            "Special cases aren't special enough to break the rules.\n",
            "Although practicality beats purity.\n",
            "Errors should never pass silently.\n",
            "Unless explicitly silenced.\n",
            "In the face of ambiguity, refuse the temptation to guess.\n",
            "There should be one-- and preferably only one --obvious way to do it.\n",
            "Although that way may not be obvious at first unless you're Dutch.\n",
            "Now is better than never.\n",
            "Although never is often better than *right* now.\n",
            "If the implementation is hard to explain, it's a bad idea.\n",
            "If the implementation is easy to explain, it may be a good idea.\n",
            "Namespaces are one honking great idea -- let's do more of those!\n",
            "\n"
          ]
        }
      ]
    },
    {
      "cell_type": "markdown",
      "metadata": {
        "id": "6VWZ6SVnG4yd"
      },
      "source": [
        "## Question 2: Hash tables and hash functions\n",
        "\n",
        "The code cell below contains a list of Israeli localities and a list of lists of ZIP codes, each containing one or more ZIP codes that belong to the locality placed at the same index in the list of localities (e.g., the list of ZIP codes at `zipcodes[4]` contains ZIP codes that belong to the locality at `localities[4]`).\n",
        "\n",
        "### In the first two tasks you will create two hash tables that map each ZIP code to its corresponding locality. For example,\n",
        "```python\n",
        "locality = zipcodes_to_localities['77771']  # Using Python's dictionary\n",
        "print(locality)\n",
        "\n",
        "locality = tget(t, '24990')  # Using our implementation of dictionary\n",
        "print(locality)\n",
        "```\n",
        "should print\n",
        "```\n",
        "Ashdod\n",
        "Beit Jann\n",
        "```\n",
        "The rest of the tasks deal with hash functions.\n",
        "\n",
        "1. Create the hash table using Python's dictionary. Print it using the function `pprint`.\n",
        "2. Create the hash table using our implementation (see [lecture notes](https://colab.research.google.com/drive/1Byc11ZKz-Bd4BxWOh9YnkEJGPnUeAK1C#scrollTo=en9mqoSXxK8q)) of dictionary using the built-in hash function. Print it using the function `pprint`.\n",
        "3. Implement a hash function for ZIP codes, that maps each ZIP code (as a string) to the number: (_m_ + 1) * (_k_ + 1), where _m_ is the maximal digit of the ZIP code, and _k_ is the index of its first occurrence. For example, `'10727'` (_m_ = 7, _k_ = 2) and `'21053'` (_m_ = 5, _k_ = 3) should both be mapped to the number 24.\n",
        "4. May the hash function you implemented in task 3 be used as a reliable checksum function? Explain your answer with an example.\n",
        "5. MD5 is a widely used hash function, primarily used as a checksum. The function `md5(s)` in the code cell below takes a string and returns its MD5 digest represented as a string of 32 [hexadecimal](https://en.wikipedia.org/wiki/Hexadecimal) digits. You are required to write a program that finds and prints the string of 3 lowercase English alphabet characters whose MD5 digest is `0b08bd98d279b88859b628cd8c061ae0`."
      ]
    },
    {
      "cell_type": "code",
      "metadata": {
        "id": "2Op-c-GxG4yd"
      },
      "source": [
        "# For tasks 1 and 2\n",
        "\n",
        "from pprint import pprint\n",
        "\n",
        "localities = \\\n",
        "[\n",
        " 'Qiryat Shemona',\n",
        " 'Beit Jann',\n",
        " 'Harish',\n",
        " 'Tira',\n",
        " 'Bene Beraq',\n",
        " 'Ashdod',\n",
        " 'Sederot',\n",
        " 'Beersheba',\n",
        " 'Kseife',\n",
        " 'Tzofar'\n",
        "]\n",
        "\n",
        "zipcodes = \\\n",
        "[\n",
        " ['11032', '11561'],\n",
        " ['24990'],\n",
        " ['37611'],\n",
        " ['44915'],\n",
        " ['51461', '51529', '51562'],\n",
        " ['77756', '77771'],\n",
        " ['87112'],\n",
        " ['84138', '84277', '84540', '84885'],\n",
        " ['84923'],\n",
        " ['86830']\n",
        "]\n",
        "\n",
        "# For task 5\n",
        "\n",
        "import hashlib\n",
        "\n",
        "def md5(s):\n",
        "  return hashlib.md5(s.encode('utf-8')).hexdigest()"
      ],
      "execution_count": 10,
      "outputs": []
    },
    {
      "cell_type": "code",
      "source": [
        "city_zip = { '11032' : 'Qiryat Shemona', '11561' : 'Qiryat Shemona', '24990' : 'Beit Jann', '37611' : 'Harish', '44915' : 'Tira', '51461' : 'Bene Beraq', '51529' : 'Bene Beraq', '51562' : 'Bene Beraq', '77756' : 'Ashdod', '77771' : 'Ashdod', '87112' : 'Sederot', '84138' : 'Beersheba', '84277' : 'Beersheba', '84540' : 'Beersheba', '84885' : 'Beersheba' , '84923' : 'Kseife' , '86830' : 'Tzofar'  }\n",
        "pprint(city_zip)\n",
        " \n"
      ],
      "metadata": {
        "id": "Cr8w8pvF1q_W",
        "colab": {
          "base_uri": "https://localhost:8080/"
        },
        "outputId": "5c68436a-bb54-4de5-8803-a750a8f939a7"
      },
      "execution_count": 11,
      "outputs": [
        {
          "output_type": "stream",
          "name": "stdout",
          "text": [
            "{'11032': 'Qiryat Shemona',\n",
            " '11561': 'Qiryat Shemona',\n",
            " '24990': 'Beit Jann',\n",
            " '37611': 'Harish',\n",
            " '44915': 'Tira',\n",
            " '51461': 'Bene Beraq',\n",
            " '51529': 'Bene Beraq',\n",
            " '51562': 'Bene Beraq',\n",
            " '77756': 'Ashdod',\n",
            " '77771': 'Ashdod',\n",
            " '84138': 'Beersheba',\n",
            " '84277': 'Beersheba',\n",
            " '84540': 'Beersheba',\n",
            " '84885': 'Beersheba',\n",
            " '84923': 'Kseife',\n",
            " '86830': 'Tzofar',\n",
            " '87112': 'Sederot'}\n"
          ]
        }
      ]
    },
    {
      "cell_type": "code",
      "source": [
        "def make(n):\n",
        "    return [list() for _ in range(n)]\n",
        "\n",
        "def tset(table, key, value, h=hash):\n",
        "    i = h(key) % len(table)\n",
        "    entry = table[i]\n",
        "    for i, (k, v) in enumerate(entry):\n",
        "        if key==k:\n",
        "            entry[i] = (key, value)\n",
        "            return\n",
        "    entry.append((key, value))\n",
        "\n",
        "t=make(10)\n",
        "tset(t, '11561', 'Qiryat Shemona')\n",
        "tset(t, '11032', 'Qiryat Shemona')\n",
        "tset(t, '24990', 'Beit Jann')\n",
        "tset(t, '37611', 'Harish')\n",
        "tset(t, '44915', 'Tira')\n",
        "tset(t, '51461', 'Bene Beraq')\n",
        "tset(t, '51529', 'Bene Beraq')\n",
        "tset(t, '51562', 'Bene Beraq')\n",
        "tset(t, '77756', 'Ashdod')\n",
        "tset(t, '77771', 'Ashdod')\n",
        "tset(t, '87112', 'Sederot')\n",
        "tset(t, '84138', 'Beersheba')\n",
        "tset(t, '84277', 'Beersheba')\n",
        "tset(t, '84540', 'Beersheba')\n",
        "tset(t, '84885', 'Beersheba')\n",
        "tset(t, '84923', 'Kseife')\n",
        "tset(t, '86830', 'Tzofar')\n",
        "pprint(t)\n"
      ],
      "metadata": {
        "id": "4V6pSUsxEXwl",
        "colab": {
          "base_uri": "https://localhost:8080/"
        },
        "outputId": "a898f3ee-4c00-4251-bf8b-8d6389c58299"
      },
      "execution_count": 12,
      "outputs": [
        {
          "output_type": "stream",
          "name": "stdout",
          "text": [
            "[[],\n",
            " [('86830', 'Tzofar')],\n",
            " [('84540', 'Beersheba')],\n",
            " [('37611', 'Harish'), ('84277', 'Beersheba')],\n",
            " [('51529', 'Bene Beraq')],\n",
            " [('77756', 'Ashdod'), ('84138', 'Beersheba')],\n",
            " [('11032', 'Qiryat Shemona'), ('51461', 'Bene Beraq')],\n",
            " [('11561', 'Qiryat Shemona'), ('51562', 'Bene Beraq')],\n",
            " [('24990', 'Beit Jann'),\n",
            "  ('44915', 'Tira'),\n",
            "  ('87112', 'Sederot'),\n",
            "  ('84885', 'Beersheba'),\n",
            "  ('84923', 'Kseife')],\n",
            " [('77771', 'Ashdod')]]\n"
          ]
        }
      ]
    },
    {
      "cell_type": "code",
      "source": [
        "def hashZip(s):\n",
        "  max_char=s[0]\n",
        "  for i in range(1,len(s)):\n",
        "    curr_char=s[i]\n",
        "    if(curr_char>max_char):\n",
        "      max_char=s[i]\n",
        "  m=int(max_char)\n",
        "  k=s.find(max_char)\n",
        "  return (m+1)*(k+1)\n"
      ],
      "metadata": {
        "id": "xV3vrG1pEYIo"
      },
      "execution_count": 14,
      "outputs": []
    },
    {
      "cell_type": "code",
      "source": [
        "def reliable_checksum():\n",
        "  s = \"\"\"The hash function we implemented in task 2.3 is not a reliable checksum due to the fact that for different inputs the output is the same , \n",
        "meaning we can not know to match between inputs and outputs.\"\"\"\n",
        "  a = \"992341\"\n",
        "  b = \"9\"\n",
        "  output_1=hashZip(a)\n",
        "  output_2=hashZip(b)\n",
        "  print(s)\n",
        "  print(f\"For example :  {a}  !=  {b}  but  {output_1}  =  {output_2}\")\n",
        "reliable_checksum()\n",
        "\n",
        "\n"
      ],
      "metadata": {
        "id": "8LPoAlTdEYf7",
        "colab": {
          "base_uri": "https://localhost:8080/"
        },
        "outputId": "a4d1454d-e352-412f-ffe1-e197f3f92c46"
      },
      "execution_count": 15,
      "outputs": [
        {
          "output_type": "stream",
          "name": "stdout",
          "text": [
            "The hash function we implemented in task 2.3 is not a reliable checksum due to the fact that for different inputs the output is the same , \n",
            "meaning we can not know to match between inputs and outputs.\n",
            "For example :  992341  !=  9  but  10  =  10\n"
          ]
        }
      ]
    },
    {
      "cell_type": "code",
      "source": [
        "alphabet = ['a','b','c','d','e','f','g','h','i','j','k','l','m','n','o','p','q','r','s','t','u','v','w','x','y','z'] #Looking it up I found that you can not trace-back the original string , therefore we find it using brute force.\n",
        "for let_1 in alphabet:\n",
        "  for let_2 in alphabet:\n",
        "    for let_3 in alphabet:\n",
        "      s=let_1+let_2+let_3\n",
        "      if(md5(s) == '0b08bd98d279b88859b628cd8c061ae0'):\n",
        "        print(s)\n",
        "        break  "
      ],
      "metadata": {
        "id": "lJnONvGNEY1P",
        "colab": {
          "base_uri": "https://localhost:8080/"
        },
        "outputId": "f3df2200-10bc-4f35-8852-153e0663ef58"
      },
      "execution_count": 17,
      "outputs": [
        {
          "output_type": "stream",
          "name": "stdout",
          "text": [
            "win\n"
          ]
        }
      ]
    }
  ]
}